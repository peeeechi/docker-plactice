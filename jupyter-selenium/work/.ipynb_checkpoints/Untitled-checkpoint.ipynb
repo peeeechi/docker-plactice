{
 "cells": [
  {
   "cell_type": "code",
   "execution_count": 1,
   "id": "ordered-crown",
   "metadata": {},
   "outputs": [],
   "source": [
    "from selenium import webdriver\n",
    "\n",
    "# Chrome のオプションを設定する\n",
    "options = webdriver.ChromeOptions()\n",
    "options.add_argument('--disable-dev-shm-usage')"
   ]
  },
  {
   "cell_type": "code",
   "execution_count": 4,
   "id": "946cd584-b8c1-4b27-8419-839b72c41a70",
   "metadata": {},
   "outputs": [
    {
     "name": "stdout",
     "output_type": "stream",
     "text": [
      "https://qiita.com/kei0919/items/f6f696169c92c936374c\n"
     ]
    }
   ],
   "source": [
    "# Selenium Server に接続する\n",
    "driver = webdriver.Remote(\n",
    "    command_executor='jupyter-selenium_chrome_driver_1:4444/wd/hub', # コンテナ名を指定\n",
    "#     command_executor='172.26.0.2:4444/wd/hub', # もしくはIPアドレスを指定\n",
    "    options=options,\n",
    ")\n",
    "\n",
    "# Selenium 経由でブラウザを操作する\n",
    "# driver.get('https://qiita.com')\n",
    "driver.get('https://qiita.com/kei0919/items/f6f696169c92c936374c')\n",
    "print(driver.current_url)\n",
    "\n",
    "# ブラウザを終了する\n",
    "driver.quit()"
   ]
  },
  {
   "cell_type": "code",
   "execution_count": null,
   "id": "7a0d8447-1c7a-421f-ab88-52c7fd0f9b40",
   "metadata": {},
   "outputs": [],
   "source": []
  }
 ],
 "metadata": {
  "kernelspec": {
   "display_name": "Python 3",
   "language": "python",
   "name": "python3"
  },
  "language_info": {
   "codemirror_mode": {
    "name": "ipython",
    "version": 3
   },
   "file_extension": ".py",
   "mimetype": "text/x-python",
   "name": "python",
   "nbconvert_exporter": "python",
   "pygments_lexer": "ipython3",
   "version": "3.9.2"
  }
 },
 "nbformat": 4,
 "nbformat_minor": 5
}
